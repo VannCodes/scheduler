{
 "cells": [
  {
   "cell_type": "code",
   "execution_count": 1,
   "id": "a2cdd7a9",
   "metadata": {},
   "outputs": [],
   "source": [
    "from scheduler import Job, FCFS\n",
    "jobs = [\n",
    "    Job('A', 5, 2),\n",
    "    Job('B', 3, 0),\n",
    "    Job('C', 7, 1),\n",
    "    Job('D', 4, 5)\n",
    "]"
   ]
  },
  {
   "cell_type": "code",
   "execution_count": 2,
   "id": "d0ab396a",
   "metadata": {},
   "outputs": [],
   "source": [
    "fcfs = FCFS(jobs)\n",
    "fcfs.start()"
   ]
  },
  {
   "cell_type": "code",
   "execution_count": 3,
   "id": "9c0829e3",
   "metadata": {},
   "outputs": [
    {
     "name": "stdout",
     "output_type": "stream",
     "text": [
      "[{'id': 'B', 'start': 0, 'end': 3}, {'id': 'C', 'start': 3, 'end': 10}, {'id': 'A', 'start': 10, 'end': 15}, {'id': 'D', 'start': 15, 'end': 19}]\n"
     ]
    }
   ],
   "source": [
    "fcfs.show_gantt()"
   ]
  },
  {
   "cell_type": "code",
   "execution_count": 4,
   "id": "367a1f87",
   "metadata": {},
   "outputs": [
    {
     "name": "stdout",
     "output_type": "stream",
     "text": [
      "Job [B]:\n",
      "            Burst Time: 3\n",
      "            Arrival Time: 0\n",
      "            Completion Time: 3\n",
      "            Turn-Around Time: 3\n",
      "            Waiting Time: 0     \n",
      "              \n",
      "Job [C]:\n",
      "            Burst Time: 7\n",
      "            Arrival Time: 1\n",
      "            Completion Time: 10\n",
      "            Turn-Around Time: 9\n",
      "            Waiting Time: 2     \n",
      "              \n",
      "Job [A]:\n",
      "            Burst Time: 5\n",
      "            Arrival Time: 2\n",
      "            Completion Time: 15\n",
      "            Turn-Around Time: 13\n",
      "            Waiting Time: 8     \n",
      "              \n",
      "Job [D]:\n",
      "            Burst Time: 4\n",
      "            Arrival Time: 5\n",
      "            Completion Time: 19\n",
      "            Turn-Around Time: 14\n",
      "            Waiting Time: 10     \n",
      "              \n"
     ]
    }
   ],
   "source": [
    "fcfs.list_jobs()"
   ]
  },
  {
   "cell_type": "code",
   "execution_count": 6,
   "id": "89b743db",
   "metadata": {},
   "outputs": [
    {
     "name": "stdout",
     "output_type": "stream",
     "text": [
      "Average Waiting Time: 5.0\n",
      "Average Turn-Around Time: 9.75\n"
     ]
    }
   ],
   "source": [
    "print(f\"Average Waiting Time: {fcfs.avg_wt()}\")\n",
    "print(f\"Average Turn-Around Time: {fcfs.avg_tat()}\")"
   ]
  },
  {
   "cell_type": "code",
   "execution_count": null,
   "id": "ee2f7c24",
   "metadata": {},
   "outputs": [],
   "source": []
  }
 ],
 "metadata": {
  "kernelspec": {
   "display_name": "base",
   "language": "python",
   "name": "python3"
  },
  "language_info": {
   "codemirror_mode": {
    "name": "ipython",
    "version": 3
   },
   "file_extension": ".py",
   "mimetype": "text/x-python",
   "name": "python",
   "nbconvert_exporter": "python",
   "pygments_lexer": "ipython3",
   "version": "3.12.7"
  }
 },
 "nbformat": 4,
 "nbformat_minor": 5
}
