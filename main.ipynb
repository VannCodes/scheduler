{
 "cells": [
  {
   "cell_type": "code",
   "execution_count": 1,
   "id": "a2cdd7a9",
   "metadata": {},
   "outputs": [],
   "source": [
    "from scheduler import Job, FCFS, SJF\n",
    "jobs = [\n",
    "    Job('A', 2, 4),\n",
    "    Job('B', 3, 2),\n",
    "    Job('C', 1, 3),\n",
    "    Job('D', 4, 1)\n",
    "]"
   ]
  },
  {
   "cell_type": "code",
   "execution_count": 2,
   "id": "edd74225",
   "metadata": {},
   "outputs": [],
   "source": [
    "# First Come, First Serve\n",
    "fcfs = FCFS(jobs)\n",
    "fcfs.start()"
   ]
  },
  {
   "cell_type": "code",
   "execution_count": 3,
   "id": "f794351a",
   "metadata": {},
   "outputs": [
    {
     "name": "stdout",
     "output_type": "stream",
     "text": [
      "[{'id': 'D', 'start': 1, 'end': 5}, {'id': 'B', 'start': 5, 'end': 8}, {'id': 'C', 'start': 8, 'end': 9}, {'id': 'A', 'start': 9, 'end': 11}]\n"
     ]
    }
   ],
   "source": [
    "fcfs.show_gantt()"
   ]
  },
  {
   "cell_type": "code",
   "execution_count": 4,
   "id": "4075b013",
   "metadata": {},
   "outputs": [
    {
     "name": "stdout",
     "output_type": "stream",
     "text": [
      "Job [D]:\n",
      "            Burst Time: 4\n",
      "            Arrival Time: 1\n",
      "            Completion Time: 5\n",
      "            Turn-Around Time: 4\n",
      "            Waiting Time: 0     \n",
      "              \n",
      "Job [B]:\n",
      "            Burst Time: 3\n",
      "            Arrival Time: 2\n",
      "            Completion Time: 8\n",
      "            Turn-Around Time: 6\n",
      "            Waiting Time: 3     \n",
      "              \n",
      "Job [C]:\n",
      "            Burst Time: 1\n",
      "            Arrival Time: 3\n",
      "            Completion Time: 9\n",
      "            Turn-Around Time: 6\n",
      "            Waiting Time: 5     \n",
      "              \n",
      "Job [A]:\n",
      "            Burst Time: 2\n",
      "            Arrival Time: 4\n",
      "            Completion Time: 11\n",
      "            Turn-Around Time: 7\n",
      "            Waiting Time: 5     \n",
      "              \n"
     ]
    }
   ],
   "source": [
    "fcfs.list_jobs()"
   ]
  },
  {
   "cell_type": "code",
   "execution_count": 5,
   "id": "26f7afd8",
   "metadata": {},
   "outputs": [
    {
     "name": "stdout",
     "output_type": "stream",
     "text": [
      "Average Waiting Time: 3.25\n",
      "Average Turn-Around Time: 5.75\n"
     ]
    }
   ],
   "source": [
    "print(f\"Average Waiting Time: {fcfs.avg_wt()}\")\n",
    "print(f\"Average Turn-Around Time: {fcfs.avg_tat()}\")"
   ]
  },
  {
   "cell_type": "code",
   "execution_count": 6,
   "id": "8b9caefd",
   "metadata": {},
   "outputs": [
    {
     "name": "stdout",
     "output_type": "stream",
     "text": [
      "1 run: D, 4\n",
      "2 run: B, 3\n",
      "2 run: C, 1\n",
      "2 run: A, 2\n",
      "3 run: B, 3\n",
      "3 run: A, 2\n",
      "4 run: B, 3\n"
     ]
    }
   ],
   "source": [
    "# Non-Preemptive Shortest Job First\n",
    "sjf = SJF(jobs)\n",
    "sjf.start()"
   ]
  },
  {
   "cell_type": "code",
   "execution_count": 7,
   "id": "b579cca7",
   "metadata": {},
   "outputs": [
    {
     "name": "stdout",
     "output_type": "stream",
     "text": [
      "[{'id': 'D', 'start': 1, 'end': 5}, {'id': 'C', 'start': 5, 'end': 6}, {'id': 'A', 'start': 6, 'end': 8}, {'id': 'B', 'start': 8, 'end': 11}]\n"
     ]
    }
   ],
   "source": [
    "sjf.show_gantt()"
   ]
  },
  {
   "cell_type": "code",
   "execution_count": 8,
   "id": "24e08e94",
   "metadata": {},
   "outputs": [
    {
     "name": "stdout",
     "output_type": "stream",
     "text": [
      "Job [D]:\n",
      "            Burst Time: 4\n",
      "            Arrival Time: 1\n",
      "            Completion Time: 5\n",
      "            Turn-Around Time: 4\n",
      "            Waiting Time: 0     \n",
      "              \n",
      "Job [C]:\n",
      "            Burst Time: 1\n",
      "            Arrival Time: 3\n",
      "            Completion Time: 6\n",
      "            Turn-Around Time: 3\n",
      "            Waiting Time: 2     \n",
      "              \n",
      "Job [A]:\n",
      "            Burst Time: 2\n",
      "            Arrival Time: 4\n",
      "            Completion Time: 8\n",
      "            Turn-Around Time: 4\n",
      "            Waiting Time: 2     \n",
      "              \n",
      "Job [B]:\n",
      "            Burst Time: 3\n",
      "            Arrival Time: 2\n",
      "            Completion Time: 11\n",
      "            Turn-Around Time: 9\n",
      "            Waiting Time: 6     \n",
      "              \n"
     ]
    }
   ],
   "source": [
    "sjf.list_jobs()"
   ]
  },
  {
   "cell_type": "code",
   "execution_count": 9,
   "id": "20b11c1c",
   "metadata": {},
   "outputs": [
    {
     "name": "stdout",
     "output_type": "stream",
     "text": [
      "Average Waiting Time: 2.5\n",
      "Average Turn-Around Time: 5.0\n"
     ]
    }
   ],
   "source": [
    "print(f\"Average Waiting Time: {sjf.avg_wt()}\")\n",
    "print(f\"Average Turn-Around Time: {sjf.avg_tat()}\")"
   ]
  },
  {
   "cell_type": "code",
   "execution_count": null,
   "id": "75a16fad",
   "metadata": {},
   "outputs": [],
   "source": []
  }
 ],
 "metadata": {
  "kernelspec": {
   "display_name": "base",
   "language": "python",
   "name": "python3"
  },
  "language_info": {
   "codemirror_mode": {
    "name": "ipython",
    "version": 3
   },
   "file_extension": ".py",
   "mimetype": "text/x-python",
   "name": "python",
   "nbconvert_exporter": "python",
   "pygments_lexer": "ipython3",
   "version": "3.12.7"
  }
 },
 "nbformat": 4,
 "nbformat_minor": 5
}
