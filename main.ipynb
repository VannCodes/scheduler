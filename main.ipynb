{
 "cells": [
  {
   "cell_type": "code",
   "execution_count": 1,
   "id": "a2cdd7a9",
   "metadata": {},
   "outputs": [],
   "source": [
    "from scheduler import Job, FCFS, SJF, Priority\n",
    "jobs = [\n",
    "    Job('A', 2, 3, priority=10),\n",
    "    Job('B', 7, 2, priority=4),\n",
    "    Job('C', 5, 4, priority=1),\n",
    "    Job('D', 3, 5, priority=8)\n",
    "]"
   ]
  },
  {
   "cell_type": "code",
   "execution_count": 2,
   "id": "edd74225",
   "metadata": {},
   "outputs": [],
   "source": [
    "# First Come, First Serve\n",
    "fcfs = FCFS(jobs)\n",
    "fcfs.start()"
   ]
  },
  {
   "cell_type": "code",
   "execution_count": 3,
   "id": "f794351a",
   "metadata": {},
   "outputs": [
    {
     "name": "stdout",
     "output_type": "stream",
     "text": [
      "[{'id': 'B', 'start': 2, 'end': 9}, {'id': 'A', 'start': 9, 'end': 11}, {'id': 'C', 'start': 11, 'end': 16}, {'id': 'D', 'start': 16, 'end': 19}]\n"
     ]
    }
   ],
   "source": [
    "fcfs.show_gantt()"
   ]
  },
  {
   "cell_type": "code",
   "execution_count": 4,
   "id": "4075b013",
   "metadata": {},
   "outputs": [
    {
     "name": "stdout",
     "output_type": "stream",
     "text": [
      "Job [B]:\n",
      "            Burst Time: 7\n",
      "            Arrival Time: 2\n",
      "            Completion Time: 9\n",
      "            Turn-Around Time: 7\n",
      "            Waiting Time: 0     \n",
      "              \tPriority: 4\n",
      "Job [A]:\n",
      "            Burst Time: 2\n",
      "            Arrival Time: 3\n",
      "            Completion Time: 11\n",
      "            Turn-Around Time: 8\n",
      "            Waiting Time: 6     \n",
      "              \tPriority: 10\n",
      "Job [C]:\n",
      "            Burst Time: 5\n",
      "            Arrival Time: 4\n",
      "            Completion Time: 16\n",
      "            Turn-Around Time: 12\n",
      "            Waiting Time: 7     \n",
      "              \tPriority: 1\n",
      "Job [D]:\n",
      "            Burst Time: 3\n",
      "            Arrival Time: 5\n",
      "            Completion Time: 19\n",
      "            Turn-Around Time: 14\n",
      "            Waiting Time: 11     \n",
      "              \tPriority: 8\n"
     ]
    }
   ],
   "source": [
    "fcfs.list_jobs()"
   ]
  },
  {
   "cell_type": "code",
   "execution_count": 5,
   "id": "26f7afd8",
   "metadata": {},
   "outputs": [
    {
     "name": "stdout",
     "output_type": "stream",
     "text": [
      "Average Waiting Time: 6.0\n",
      "Average Turn-Around Time: 10.25\n"
     ]
    }
   ],
   "source": [
    "print(f\"Average Waiting Time: {fcfs.avg_wt()}\")\n",
    "print(f\"Average Turn-Around Time: {fcfs.avg_tat()}\")"
   ]
  },
  {
   "cell_type": "code",
   "execution_count": 6,
   "id": "8b9caefd",
   "metadata": {},
   "outputs": [],
   "source": [
    "# Non-Preemptive Shortest Job First\n",
    "nsjf = SJF(jobs)\n",
    "nsjf.start()"
   ]
  },
  {
   "cell_type": "code",
   "execution_count": 7,
   "id": "b579cca7",
   "metadata": {},
   "outputs": [
    {
     "name": "stdout",
     "output_type": "stream",
     "text": [
      "[{'id': 'B', 'start': 2, 'end': 9}, {'id': 'A', 'start': 9, 'end': 11}, {'id': 'D', 'start': 11, 'end': 14}, {'id': 'C', 'start': 14, 'end': 19}]\n"
     ]
    }
   ],
   "source": [
    "nsjf.show_gantt()"
   ]
  },
  {
   "cell_type": "code",
   "execution_count": 8,
   "id": "24e08e94",
   "metadata": {},
   "outputs": [
    {
     "name": "stdout",
     "output_type": "stream",
     "text": [
      "Job [B]:\n",
      "            Burst Time: 7\n",
      "            Arrival Time: 2\n",
      "            Completion Time: 9\n",
      "            Turn-Around Time: 7\n",
      "            Waiting Time: 0     \n",
      "              \tPriority: 4\n",
      "Job [A]:\n",
      "            Burst Time: 2\n",
      "            Arrival Time: 3\n",
      "            Completion Time: 11\n",
      "            Turn-Around Time: 8\n",
      "            Waiting Time: 6     \n",
      "              \tPriority: 10\n",
      "Job [D]:\n",
      "            Burst Time: 3\n",
      "            Arrival Time: 5\n",
      "            Completion Time: 14\n",
      "            Turn-Around Time: 9\n",
      "            Waiting Time: 6     \n",
      "              \tPriority: 8\n",
      "Job [C]:\n",
      "            Burst Time: 5\n",
      "            Arrival Time: 4\n",
      "            Completion Time: 19\n",
      "            Turn-Around Time: 15\n",
      "            Waiting Time: 10     \n",
      "              \tPriority: 1\n"
     ]
    }
   ],
   "source": [
    "nsjf.list_jobs()"
   ]
  },
  {
   "cell_type": "code",
   "execution_count": 9,
   "id": "20b11c1c",
   "metadata": {},
   "outputs": [
    {
     "name": "stdout",
     "output_type": "stream",
     "text": [
      "Average Waiting Time: 5.5\n",
      "Average Turn-Around Time: 9.75\n"
     ]
    }
   ],
   "source": [
    "print(f\"Average Waiting Time: {nsjf.avg_wt()}\")\n",
    "print(f\"Average Turn-Around Time: {nsjf.avg_tat()}\")"
   ]
  },
  {
   "cell_type": "code",
   "execution_count": 10,
   "id": "75a16fad",
   "metadata": {},
   "outputs": [],
   "source": [
    "# Preemptive Shortest Job First\n",
    "psjf = SJF(jobs, preempt=True)\n",
    "psjf.start()"
   ]
  },
  {
   "cell_type": "code",
   "execution_count": 11,
   "id": "9f591aa8",
   "metadata": {},
   "outputs": [
    {
     "name": "stdout",
     "output_type": "stream",
     "text": [
      "[{'id': 'B', 'start': 2, 'end': 3}, {'id': 'A', 'start': 3, 'end': 5}, {'id': 'D', 'start': 5, 'end': 8}, {'id': 'C', 'start': 8, 'end': 13}, {'id': 'B', 'start': 13, 'end': 19}]\n"
     ]
    }
   ],
   "source": [
    "psjf.show_gantt()"
   ]
  },
  {
   "cell_type": "code",
   "execution_count": 12,
   "id": "5c24c868",
   "metadata": {},
   "outputs": [
    {
     "name": "stdout",
     "output_type": "stream",
     "text": [
      "Job [A]:\n",
      "            Burst Time: 2\n",
      "            Arrival Time: 3\n",
      "            Completion Time: 5\n",
      "            Turn-Around Time: 2\n",
      "            Waiting Time: 0     \n",
      "              \tPriority: 10\n",
      "Job [D]:\n",
      "            Burst Time: 3\n",
      "            Arrival Time: 5\n",
      "            Completion Time: 8\n",
      "            Turn-Around Time: 3\n",
      "            Waiting Time: 0     \n",
      "              \tPriority: 8\n",
      "Job [C]:\n",
      "            Burst Time: 5\n",
      "            Arrival Time: 4\n",
      "            Completion Time: 13\n",
      "            Turn-Around Time: 9\n",
      "            Waiting Time: 4     \n",
      "              \tPriority: 1\n",
      "Job [B]:\n",
      "            Burst Time: 7\n",
      "            Arrival Time: 2\n",
      "            Completion Time: 19\n",
      "            Turn-Around Time: 17\n",
      "            Waiting Time: 10     \n",
      "              \tPriority: 4\n"
     ]
    }
   ],
   "source": [
    "psjf.list_jobs()"
   ]
  },
  {
   "cell_type": "code",
   "execution_count": 13,
   "id": "ba8edd36",
   "metadata": {},
   "outputs": [
    {
     "name": "stdout",
     "output_type": "stream",
     "text": [
      "Average Waiting Time: 3.5\n",
      "Average Turn-Around Time: 7.75\n"
     ]
    }
   ],
   "source": [
    "print(f\"Average Waiting Time: {psjf.avg_wt()}\")\n",
    "print(f\"Average Turn-Around Time: {psjf.avg_tat()}\")"
   ]
  },
  {
   "cell_type": "code",
   "execution_count": 14,
   "id": "a7127000",
   "metadata": {},
   "outputs": [],
   "source": [
    "# Non-Preemptive Priority Scheduling\n",
    "nprio = Priority(jobs)\n",
    "nprio.start()"
   ]
  },
  {
   "cell_type": "code",
   "execution_count": 15,
   "id": "143a85a1",
   "metadata": {},
   "outputs": [
    {
     "name": "stdout",
     "output_type": "stream",
     "text": [
      "[{'id': 'B', 'start': 2, 'end': 9}, {'id': 'A', 'start': 9, 'end': 11}, {'id': 'D', 'start': 11, 'end': 14}, {'id': 'C', 'start': 14, 'end': 19}]\n"
     ]
    }
   ],
   "source": [
    "nprio.show_gantt()"
   ]
  },
  {
   "cell_type": "code",
   "execution_count": 16,
   "id": "fca8ff7c",
   "metadata": {},
   "outputs": [
    {
     "name": "stdout",
     "output_type": "stream",
     "text": [
      "Job [B]:\n",
      "            Burst Time: 7\n",
      "            Arrival Time: 2\n",
      "            Completion Time: 9\n",
      "            Turn-Around Time: 7\n",
      "            Waiting Time: 0     \n",
      "              \tPriority: 4\n",
      "Job [A]:\n",
      "            Burst Time: 2\n",
      "            Arrival Time: 3\n",
      "            Completion Time: 11\n",
      "            Turn-Around Time: 8\n",
      "            Waiting Time: 6     \n",
      "              \tPriority: 10\n",
      "Job [D]:\n",
      "            Burst Time: 3\n",
      "            Arrival Time: 5\n",
      "            Completion Time: 14\n",
      "            Turn-Around Time: 9\n",
      "            Waiting Time: 6     \n",
      "              \tPriority: 8\n",
      "Job [C]:\n",
      "            Burst Time: 5\n",
      "            Arrival Time: 4\n",
      "            Completion Time: 19\n",
      "            Turn-Around Time: 15\n",
      "            Waiting Time: 10     \n",
      "              \tPriority: 1\n"
     ]
    }
   ],
   "source": [
    "nprio.list_jobs()"
   ]
  },
  {
   "cell_type": "code",
   "execution_count": 17,
   "id": "88b07c38",
   "metadata": {},
   "outputs": [
    {
     "name": "stdout",
     "output_type": "stream",
     "text": [
      "Average Waiting Time: 5.5\n",
      "Average Turn-Around Time: 9.75\n"
     ]
    }
   ],
   "source": [
    "print(f\"Average Waiting Time: {nprio.avg_wt()}\")\n",
    "print(f\"Average Turn-Around Time: {nprio.avg_tat()}\")"
   ]
  },
  {
   "cell_type": "code",
   "execution_count": 18,
   "id": "4373f857",
   "metadata": {},
   "outputs": [],
   "source": [
    "pprio = Priority(jobs, preempt=True)\n",
    "pprio.start()"
   ]
  },
  {
   "cell_type": "code",
   "execution_count": 19,
   "id": "217a1186",
   "metadata": {},
   "outputs": [
    {
     "name": "stdout",
     "output_type": "stream",
     "text": [
      "[{'id': 'B', 'start': 2, 'end': 3}, {'id': 'A', 'start': 3, 'end': 5}, {'id': 'D', 'start': 5, 'end': 8}, {'id': 'B', 'start': 8, 'end': 14}, {'id': 'C', 'start': 14, 'end': 19}]\n"
     ]
    }
   ],
   "source": [
    "pprio.show_gantt()"
   ]
  },
  {
   "cell_type": "code",
   "execution_count": 20,
   "id": "dfd7bc66",
   "metadata": {},
   "outputs": [
    {
     "name": "stdout",
     "output_type": "stream",
     "text": [
      "Job [A]:\n",
      "            Burst Time: 2\n",
      "            Arrival Time: 3\n",
      "            Completion Time: 5\n",
      "            Turn-Around Time: 2\n",
      "            Waiting Time: 0     \n",
      "              \tPriority: 10\n",
      "Job [D]:\n",
      "            Burst Time: 3\n",
      "            Arrival Time: 5\n",
      "            Completion Time: 8\n",
      "            Turn-Around Time: 3\n",
      "            Waiting Time: 0     \n",
      "              \tPriority: 8\n",
      "Job [B]:\n",
      "            Burst Time: 7\n",
      "            Arrival Time: 2\n",
      "            Completion Time: 14\n",
      "            Turn-Around Time: 12\n",
      "            Waiting Time: 5     \n",
      "              \tPriority: 4\n",
      "Job [C]:\n",
      "            Burst Time: 5\n",
      "            Arrival Time: 4\n",
      "            Completion Time: 19\n",
      "            Turn-Around Time: 15\n",
      "            Waiting Time: 10     \n",
      "              \tPriority: 1\n"
     ]
    }
   ],
   "source": [
    "pprio.list_jobs()"
   ]
  },
  {
   "cell_type": "code",
   "execution_count": 21,
   "id": "78236eb8",
   "metadata": {},
   "outputs": [
    {
     "name": "stdout",
     "output_type": "stream",
     "text": [
      "Average Waiting Time: 3.75\n",
      "Average Turn-Around Time: 8.0\n"
     ]
    }
   ],
   "source": [
    "print(f\"Average Waiting Time: {pprio.avg_wt()}\")\n",
    "print(f\"Average Turn-Around Time: {pprio.avg_tat()}\")"
   ]
  }
 ],
 "metadata": {
  "kernelspec": {
   "display_name": "base",
   "language": "python",
   "name": "python3"
  },
  "language_info": {
   "codemirror_mode": {
    "name": "ipython",
    "version": 3
   },
   "file_extension": ".py",
   "mimetype": "text/x-python",
   "name": "python",
   "nbconvert_exporter": "python",
   "pygments_lexer": "ipython3",
   "version": "3.12.7"
  }
 },
 "nbformat": 4,
 "nbformat_minor": 5
}
