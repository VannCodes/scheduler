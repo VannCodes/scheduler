{
 "cells": [
  {
   "cell_type": "code",
   "execution_count": 1,
   "id": "a2cdd7a9",
   "metadata": {},
   "outputs": [],
   "source": [
    "from scheduler import Job, FCFS, SJF, Priority, RoundRobin\n",
    "jobs = [\n",
    "    Job('1', 10, 2, priority=10),\n",
    "    Job('2', 5, 1, priority=4),\n",
    "    Job('3', 6, 3, priority=1),\n",
    "    Job('4', 8, 4, priority=8),\n",
    "    Job('5', 15, 6, priority=2),\n",
    "]"
   ]
  },
  {
   "cell_type": "code",
   "execution_count": 6,
   "id": "edd74225",
   "metadata": {},
   "outputs": [],
   "source": [
    "# First Come, First Serve\n",
    "fcfs = FCFS(jobs)\n",
    "fcfs.start()"
   ]
  },
  {
   "cell_type": "code",
   "execution_count": 7,
   "id": "f794351a",
   "metadata": {},
   "outputs": [
    {
     "name": "stdout",
     "output_type": "stream",
     "text": [
      "Job [1]: Start Time = 2, End Time = 8\n",
      "Job [2]: Start Time = 8, End Time = 11\n",
      "Job [3]: Start Time = 11, End Time = 21\n",
      "Job [4]: Start Time = 21, End Time = 36\n",
      "Job [5]: Start Time = 36, End Time = 56\n"
     ]
    }
   ],
   "source": [
    "fcfs.show_gantt()"
   ]
  },
  {
   "cell_type": "code",
   "execution_count": 8,
   "id": "4075b013",
   "metadata": {},
   "outputs": [
    {
     "name": "stdout",
     "output_type": "stream",
     "text": [
      "Job [1]:\n",
      "            Burst Time: 6\n",
      "            Arrival Time: 2\n",
      "            Completion Time: 8\n",
      "            Turn-Around Time: 6\n",
      "            Waiting Time: 0     \n",
      "              \tPriority: 10\n",
      "Job [2]:\n",
      "            Burst Time: 3\n",
      "            Arrival Time: 5\n",
      "            Completion Time: 11\n",
      "            Turn-Around Time: 6\n",
      "            Waiting Time: 3     \n",
      "              \tPriority: 4\n",
      "Job [3]:\n",
      "            Burst Time: 10\n",
      "            Arrival Time: 6\n",
      "            Completion Time: 21\n",
      "            Turn-Around Time: 15\n",
      "            Waiting Time: 5     \n",
      "              \tPriority: 1\n",
      "Job [4]:\n",
      "            Burst Time: 15\n",
      "            Arrival Time: 8\n",
      "            Completion Time: 36\n",
      "            Turn-Around Time: 28\n",
      "            Waiting Time: 13     \n",
      "              \tPriority: 8\n",
      "Job [5]:\n",
      "            Burst Time: 20\n",
      "            Arrival Time: 9\n",
      "            Completion Time: 56\n",
      "            Turn-Around Time: 47\n",
      "            Waiting Time: 27     \n",
      "              \tPriority: 2\n"
     ]
    }
   ],
   "source": [
    "fcfs.list_jobs()"
   ]
  },
  {
   "cell_type": "code",
   "execution_count": 9,
   "id": "26f7afd8",
   "metadata": {},
   "outputs": [
    {
     "name": "stdout",
     "output_type": "stream",
     "text": [
      "Average Waiting Time: 9.6\n",
      "Average Turn-Around Time: 20.4\n"
     ]
    }
   ],
   "source": [
    "print(f\"Average Waiting Time: {fcfs.avg_wt()}\")\n",
    "print(f\"Average Turn-Around Time: {fcfs.avg_tat()}\")"
   ]
  },
  {
   "cell_type": "code",
   "execution_count": 6,
   "id": "8b9caefd",
   "metadata": {},
   "outputs": [],
   "source": [
    "# Non-Preemptive Shortest Job First\n",
    "nsjf = SJF(jobs)\n",
    "nsjf.start()"
   ]
  },
  {
   "cell_type": "code",
   "execution_count": 7,
   "id": "b579cca7",
   "metadata": {},
   "outputs": [
    {
     "name": "stdout",
     "output_type": "stream",
     "text": [
      "Job [E]: Start Time = 0, End Time = 10\n",
      "Job [A]: Start Time = 10, End Time = 12\n",
      "Job [D]: Start Time = 12, End Time = 15\n",
      "Job [F]: Start Time = 15, End Time = 20\n",
      "Job [C]: Start Time = 20, End Time = 25\n",
      "Job [B]: Start Time = 25, End Time = 32\n"
     ]
    }
   ],
   "source": [
    "nsjf.show_gantt()"
   ]
  },
  {
   "cell_type": "code",
   "execution_count": 8,
   "id": "24e08e94",
   "metadata": {},
   "outputs": [
    {
     "name": "stdout",
     "output_type": "stream",
     "text": [
      "Job [E]:\n",
      "            Burst Time: 10\n",
      "            Arrival Time: 0\n",
      "            Completion Time: 10\n",
      "            Turn-Around Time: 10\n",
      "            Waiting Time: 0     \n",
      "              \tPriority: 2\n",
      "Job [A]:\n",
      "            Burst Time: 2\n",
      "            Arrival Time: 3\n",
      "            Completion Time: 12\n",
      "            Turn-Around Time: 9\n",
      "            Waiting Time: 7     \n",
      "              \tPriority: 10\n",
      "Job [D]:\n",
      "            Burst Time: 3\n",
      "            Arrival Time: 5\n",
      "            Completion Time: 15\n",
      "            Turn-Around Time: 10\n",
      "            Waiting Time: 7     \n",
      "              \tPriority: 8\n",
      "Job [F]:\n",
      "            Burst Time: 5\n",
      "            Arrival Time: 2\n",
      "            Completion Time: 20\n",
      "            Turn-Around Time: 18\n",
      "            Waiting Time: 13     \n",
      "              \tPriority: 6\n",
      "Job [C]:\n",
      "            Burst Time: 5\n",
      "            Arrival Time: 4\n",
      "            Completion Time: 25\n",
      "            Turn-Around Time: 21\n",
      "            Waiting Time: 16     \n",
      "              \tPriority: 1\n",
      "Job [B]:\n",
      "            Burst Time: 7\n",
      "            Arrival Time: 2\n",
      "            Completion Time: 32\n",
      "            Turn-Around Time: 30\n",
      "            Waiting Time: 23     \n",
      "              \tPriority: 4\n"
     ]
    }
   ],
   "source": [
    "nsjf.list_jobs()"
   ]
  },
  {
   "cell_type": "code",
   "execution_count": 9,
   "id": "20b11c1c",
   "metadata": {},
   "outputs": [
    {
     "name": "stdout",
     "output_type": "stream",
     "text": [
      "Average Waiting Time: 11.0\n",
      "Average Turn-Around Time: 16.333333333333332\n"
     ]
    }
   ],
   "source": [
    "print(f\"Average Waiting Time: {nsjf.avg_wt()}\")\n",
    "print(f\"Average Turn-Around Time: {nsjf.avg_tat()}\")"
   ]
  },
  {
   "cell_type": "code",
   "execution_count": 10,
   "id": "75a16fad",
   "metadata": {},
   "outputs": [],
   "source": [
    "# Preemptive Shortest Job First\n",
    "psjf = SJF(jobs, preempt=True)\n",
    "psjf.start()"
   ]
  },
  {
   "cell_type": "code",
   "execution_count": 11,
   "id": "9f591aa8",
   "metadata": {},
   "outputs": [
    {
     "name": "stdout",
     "output_type": "stream",
     "text": [
      "Job [E]: Start Time = 0, End Time = 2\n",
      "Job [F]: Start Time = 2, End Time = 3\n",
      "Job [A]: Start Time = 3, End Time = 5\n",
      "Job [D]: Start Time = 5, End Time = 8\n",
      "Job [F]: Start Time = 8, End Time = 12\n",
      "Job [C]: Start Time = 12, End Time = 17\n",
      "Job [B]: Start Time = 17, End Time = 24\n",
      "Job [E]: Start Time = 24, End Time = 32\n"
     ]
    }
   ],
   "source": [
    "psjf.show_gantt()"
   ]
  },
  {
   "cell_type": "code",
   "execution_count": 12,
   "id": "5c24c868",
   "metadata": {},
   "outputs": [
    {
     "name": "stdout",
     "output_type": "stream",
     "text": [
      "Job [A]:\n",
      "            Burst Time: 2\n",
      "            Arrival Time: 3\n",
      "            Completion Time: 5\n",
      "            Turn-Around Time: 2\n",
      "            Waiting Time: 0     \n",
      "              \tPriority: 10\n",
      "Job [D]:\n",
      "            Burst Time: 3\n",
      "            Arrival Time: 5\n",
      "            Completion Time: 8\n",
      "            Turn-Around Time: 3\n",
      "            Waiting Time: 0     \n",
      "              \tPriority: 8\n",
      "Job [F]:\n",
      "            Burst Time: 5\n",
      "            Arrival Time: 2\n",
      "            Completion Time: 12\n",
      "            Turn-Around Time: 10\n",
      "            Waiting Time: 5     \n",
      "              \tPriority: 6\n",
      "Job [C]:\n",
      "            Burst Time: 5\n",
      "            Arrival Time: 4\n",
      "            Completion Time: 17\n",
      "            Turn-Around Time: 13\n",
      "            Waiting Time: 8     \n",
      "              \tPriority: 1\n",
      "Job [B]:\n",
      "            Burst Time: 7\n",
      "            Arrival Time: 2\n",
      "            Completion Time: 24\n",
      "            Turn-Around Time: 22\n",
      "            Waiting Time: 15     \n",
      "              \tPriority: 4\n",
      "Job [E]:\n",
      "            Burst Time: 10\n",
      "            Arrival Time: 0\n",
      "            Completion Time: 32\n",
      "            Turn-Around Time: 32\n",
      "            Waiting Time: 22     \n",
      "              \tPriority: 2\n"
     ]
    }
   ],
   "source": [
    "psjf.list_jobs()"
   ]
  },
  {
   "cell_type": "code",
   "execution_count": 13,
   "id": "ba8edd36",
   "metadata": {},
   "outputs": [
    {
     "name": "stdout",
     "output_type": "stream",
     "text": [
      "Average Waiting Time: 8.333333333333334\n",
      "Average Turn-Around Time: 13.666666666666666\n"
     ]
    }
   ],
   "source": [
    "print(f\"Average Waiting Time: {psjf.avg_wt()}\")\n",
    "print(f\"Average Turn-Around Time: {psjf.avg_tat()}\")"
   ]
  },
  {
   "cell_type": "code",
   "execution_count": 14,
   "id": "a7127000",
   "metadata": {},
   "outputs": [],
   "source": [
    "# Non-Preemptive Priority Scheduling\n",
    "nprio = Priority(jobs)\n",
    "nprio.start()"
   ]
  },
  {
   "cell_type": "code",
   "execution_count": 15,
   "id": "143a85a1",
   "metadata": {},
   "outputs": [
    {
     "name": "stdout",
     "output_type": "stream",
     "text": [
      "Job [E]: Start Time = 0, End Time = 10\n",
      "Job [A]: Start Time = 10, End Time = 12\n",
      "Job [D]: Start Time = 12, End Time = 15\n",
      "Job [F]: Start Time = 15, End Time = 20\n",
      "Job [B]: Start Time = 20, End Time = 27\n",
      "Job [C]: Start Time = 27, End Time = 32\n"
     ]
    }
   ],
   "source": [
    "nprio.show_gantt()"
   ]
  },
  {
   "cell_type": "code",
   "execution_count": 16,
   "id": "fca8ff7c",
   "metadata": {},
   "outputs": [
    {
     "name": "stdout",
     "output_type": "stream",
     "text": [
      "Job [E]:\n",
      "            Burst Time: 10\n",
      "            Arrival Time: 0\n",
      "            Completion Time: 10\n",
      "            Turn-Around Time: 10\n",
      "            Waiting Time: 0     \n",
      "              \tPriority: 2\n",
      "Job [A]:\n",
      "            Burst Time: 2\n",
      "            Arrival Time: 3\n",
      "            Completion Time: 12\n",
      "            Turn-Around Time: 9\n",
      "            Waiting Time: 7     \n",
      "              \tPriority: 10\n",
      "Job [D]:\n",
      "            Burst Time: 3\n",
      "            Arrival Time: 5\n",
      "            Completion Time: 15\n",
      "            Turn-Around Time: 10\n",
      "            Waiting Time: 7     \n",
      "              \tPriority: 8\n",
      "Job [F]:\n",
      "            Burst Time: 5\n",
      "            Arrival Time: 2\n",
      "            Completion Time: 20\n",
      "            Turn-Around Time: 18\n",
      "            Waiting Time: 13     \n",
      "              \tPriority: 6\n",
      "Job [B]:\n",
      "            Burst Time: 7\n",
      "            Arrival Time: 2\n",
      "            Completion Time: 27\n",
      "            Turn-Around Time: 25\n",
      "            Waiting Time: 18     \n",
      "              \tPriority: 4\n",
      "Job [C]:\n",
      "            Burst Time: 5\n",
      "            Arrival Time: 4\n",
      "            Completion Time: 32\n",
      "            Turn-Around Time: 28\n",
      "            Waiting Time: 23     \n",
      "              \tPriority: 1\n"
     ]
    }
   ],
   "source": [
    "nprio.list_jobs()"
   ]
  },
  {
   "cell_type": "code",
   "execution_count": 17,
   "id": "88b07c38",
   "metadata": {},
   "outputs": [
    {
     "name": "stdout",
     "output_type": "stream",
     "text": [
      "Average Waiting Time: 11.333333333333334\n",
      "Average Turn-Around Time: 16.666666666666668\n"
     ]
    }
   ],
   "source": [
    "print(f\"Average Waiting Time: {nprio.avg_wt()}\")\n",
    "print(f\"Average Turn-Around Time: {nprio.avg_tat()}\")"
   ]
  },
  {
   "cell_type": "code",
   "execution_count": 18,
   "id": "4373f857",
   "metadata": {},
   "outputs": [],
   "source": [
    "pprio = Priority(jobs, preempt=True)\n",
    "pprio.start()"
   ]
  },
  {
   "cell_type": "code",
   "execution_count": 19,
   "id": "217a1186",
   "metadata": {},
   "outputs": [
    {
     "name": "stdout",
     "output_type": "stream",
     "text": [
      "Job [E]: Start Time = 0, End Time = 2\n",
      "Job [F]: Start Time = 2, End Time = 3\n",
      "Job [A]: Start Time = 3, End Time = 5\n",
      "Job [D]: Start Time = 5, End Time = 8\n",
      "Job [F]: Start Time = 8, End Time = 12\n",
      "Job [B]: Start Time = 12, End Time = 19\n",
      "Job [E]: Start Time = 19, End Time = 27\n",
      "Job [C]: Start Time = 27, End Time = 32\n"
     ]
    }
   ],
   "source": [
    "pprio.show_gantt()"
   ]
  },
  {
   "cell_type": "code",
   "execution_count": 20,
   "id": "dfd7bc66",
   "metadata": {},
   "outputs": [
    {
     "name": "stdout",
     "output_type": "stream",
     "text": [
      "Job [A]:\n",
      "            Burst Time: 2\n",
      "            Arrival Time: 3\n",
      "            Completion Time: 5\n",
      "            Turn-Around Time: 2\n",
      "            Waiting Time: 0     \n",
      "              \tPriority: 10\n",
      "Job [D]:\n",
      "            Burst Time: 3\n",
      "            Arrival Time: 5\n",
      "            Completion Time: 8\n",
      "            Turn-Around Time: 3\n",
      "            Waiting Time: 0     \n",
      "              \tPriority: 8\n",
      "Job [F]:\n",
      "            Burst Time: 5\n",
      "            Arrival Time: 2\n",
      "            Completion Time: 12\n",
      "            Turn-Around Time: 10\n",
      "            Waiting Time: 5     \n",
      "              \tPriority: 6\n",
      "Job [B]:\n",
      "            Burst Time: 7\n",
      "            Arrival Time: 2\n",
      "            Completion Time: 19\n",
      "            Turn-Around Time: 17\n",
      "            Waiting Time: 10     \n",
      "              \tPriority: 4\n",
      "Job [E]:\n",
      "            Burst Time: 10\n",
      "            Arrival Time: 0\n",
      "            Completion Time: 27\n",
      "            Turn-Around Time: 27\n",
      "            Waiting Time: 17     \n",
      "              \tPriority: 2\n",
      "Job [C]:\n",
      "            Burst Time: 5\n",
      "            Arrival Time: 4\n",
      "            Completion Time: 32\n",
      "            Turn-Around Time: 28\n",
      "            Waiting Time: 23     \n",
      "              \tPriority: 1\n"
     ]
    }
   ],
   "source": [
    "pprio.list_jobs()"
   ]
  },
  {
   "cell_type": "code",
   "execution_count": 21,
   "id": "78236eb8",
   "metadata": {},
   "outputs": [
    {
     "name": "stdout",
     "output_type": "stream",
     "text": [
      "Average Waiting Time: 9.166666666666666\n",
      "Average Turn-Around Time: 14.5\n"
     ]
    }
   ],
   "source": [
    "print(f\"Average Waiting Time: {pprio.avg_wt()}\")\n",
    "print(f\"Average Turn-Around Time: {pprio.avg_tat()}\")"
   ]
  },
  {
   "cell_type": "code",
   "execution_count": 2,
   "id": "54b54e2f",
   "metadata": {},
   "outputs": [],
   "source": [
    "# Round Robin \n",
    "rr = RoundRobin(jobs, t_quantum=3)\n",
    "rr.start()"
   ]
  },
  {
   "cell_type": "code",
   "execution_count": 3,
   "id": "b469b6c8",
   "metadata": {},
   "outputs": [
    {
     "name": "stdout",
     "output_type": "stream",
     "text": [
      "Job [2]: Start Time = 1, End Time = 4\n",
      "Job [1]: Start Time = 4, End Time = 7\n",
      "Job [3]: Start Time = 7, End Time = 10\n",
      "Job [4]: Start Time = 10, End Time = 13\n",
      "Job [2]: Start Time = 13, End Time = 15\n",
      "Job [5]: Start Time = 15, End Time = 18\n",
      "Job [1]: Start Time = 18, End Time = 21\n",
      "Job [3]: Start Time = 21, End Time = 24\n",
      "Job [4]: Start Time = 24, End Time = 27\n",
      "Job [5]: Start Time = 27, End Time = 30\n",
      "Job [1]: Start Time = 30, End Time = 33\n",
      "Job [4]: Start Time = 33, End Time = 35\n",
      "Job [5]: Start Time = 35, End Time = 38\n",
      "Job [1]: Start Time = 38, End Time = 39\n",
      "Job [5]: Start Time = 39, End Time = 42\n",
      "Job [5]: Start Time = 42, End Time = 45\n"
     ]
    }
   ],
   "source": [
    "rr.show_gantt()"
   ]
  },
  {
   "cell_type": "code",
   "execution_count": 4,
   "id": "e82c0c41",
   "metadata": {},
   "outputs": [
    {
     "name": "stdout",
     "output_type": "stream",
     "text": [
      "Job [2]:\n",
      "            Burst Time: 5\n",
      "            Arrival Time: 1\n",
      "            Completion Time: 15\n",
      "            Turn-Around Time: 14\n",
      "            Waiting Time: 9     \n",
      "              \tPriority: 4\n",
      "Job [3]:\n",
      "            Burst Time: 6\n",
      "            Arrival Time: 3\n",
      "            Completion Time: 24\n",
      "            Turn-Around Time: 21\n",
      "            Waiting Time: 15     \n",
      "              \tPriority: 1\n",
      "Job [4]:\n",
      "            Burst Time: 8\n",
      "            Arrival Time: 4\n",
      "            Completion Time: 35\n",
      "            Turn-Around Time: 31\n",
      "            Waiting Time: 23     \n",
      "              \tPriority: 8\n",
      "Job [1]:\n",
      "            Burst Time: 10\n",
      "            Arrival Time: 2\n",
      "            Completion Time: 39\n",
      "            Turn-Around Time: 37\n",
      "            Waiting Time: 27     \n",
      "              \tPriority: 10\n",
      "Job [5]:\n",
      "            Burst Time: 15\n",
      "            Arrival Time: 6\n",
      "            Completion Time: 45\n",
      "            Turn-Around Time: 39\n",
      "            Waiting Time: 24     \n",
      "              \tPriority: 2\n"
     ]
    }
   ],
   "source": [
    "rr.list_jobs()"
   ]
  },
  {
   "cell_type": "code",
   "execution_count": 5,
   "id": "6c75987f",
   "metadata": {},
   "outputs": [
    {
     "name": "stdout",
     "output_type": "stream",
     "text": [
      "Average Waiting Time: 19.6\n",
      "Average Turn-Around Time: 28.4\n"
     ]
    }
   ],
   "source": [
    "print(f\"Average Waiting Time: {rr.avg_wt()}\")\n",
    "print(f\"Average Turn-Around Time: {rr.avg_tat()}\")"
   ]
  },
  {
   "cell_type": "code",
   "execution_count": null,
   "id": "581eab69",
   "metadata": {},
   "outputs": [],
   "source": []
  }
 ],
 "metadata": {
  "kernelspec": {
   "display_name": "base",
   "language": "python",
   "name": "python3"
  },
  "language_info": {
   "codemirror_mode": {
    "name": "ipython",
    "version": 3
   },
   "file_extension": ".py",
   "mimetype": "text/x-python",
   "name": "python",
   "nbconvert_exporter": "python",
   "pygments_lexer": "ipython3",
   "version": "3.12.7"
  }
 },
 "nbformat": 4,
 "nbformat_minor": 5
}
